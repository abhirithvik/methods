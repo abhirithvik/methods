{
 "cells": [
  {
   "cell_type": "markdown",
   "id": "8fedd521",
   "metadata": {},
   "source": [
    "* ### strings:\n",
    "    * string is a sequential data type . Anything enclosed within single quote and double quote and triple single or double quotes.\n",
    "    * String has both positive and negative index as well as step size.\n",
    "        * positive indexing x[start:end:step size] =x[0:len(x):1] \n",
    "        * Negative indexing x[start:end:stepsize] = x[-1:-len(x):-1]\n",
    " \n",
    "* ### mutable data types:\n",
    "    * Mutable objects are those that allow you to change their value or data in place with out affectingthe objects identity.\n",
    "        * list\n",
    "        * set\n",
    "        * dictionary\n",
    "    \n",
    "* ### immutable data types:\n",
    "    * immutable objects dont allow this kind of operations.\n",
    "        * booleans\n",
    "        * Strings\n",
    "        * bytes\n",
    "        * tuples\n",
    "    \n"
   ]
  },
  {
   "cell_type": "markdown",
   "id": "227af4e5",
   "metadata": {},
   "source": [
    "* ### indexing and slicing"
   ]
  },
  {
   "cell_type": "code",
   "execution_count": 12,
   "id": "8b226381",
   "metadata": {},
   "outputs": [
    {
     "name": "stdout",
     "output_type": "stream",
     "text": [
      "itao\n"
     ]
    }
   ],
   "source": [
    "x = 'Cristiano Ronaldo Portuguese footballer'\n",
    "print(x[2:10:2]) #x[start:end:step size] =x[0:len(x):1]"
   ]
  },
  {
   "cell_type": "code",
   "execution_count": 11,
   "id": "994b3e29",
   "metadata": {},
   "outputs": [
    {
     "name": "stdout",
     "output_type": "stream",
     "text": [
      "rlat\n"
     ]
    }
   ],
   "source": [
    "x = 'Cristiano Ronaldo Portuguese footballer'\n",
    "print(x[-1:-9:-2]) #x[start:end:stepsize] = x[-1:-len(x):-1]"
   ]
  },
  {
   "cell_type": "code",
   "execution_count": 17,
   "id": "942422c8",
   "metadata": {},
   "outputs": [
    {
     "name": "stdout",
     "output_type": "stream",
     "text": [
      "S\n"
     ]
    }
   ],
   "source": [
    "x = chr(83)\n",
    "print(x)"
   ]
  },
  {
   "cell_type": "markdown",
   "id": "b4b82d93",
   "metadata": {},
   "source": [
    "* ### Ordered:"
   ]
  },
  {
   "cell_type": "code",
   "execution_count": 23,
   "id": "3761faa6",
   "metadata": {},
   "outputs": [
    {
     "name": "stdout",
     "output_type": "stream",
     "text": [
      "90\n"
     ]
    }
   ],
   "source": [
    "x = ord('Z')\n",
    "print(x)"
   ]
  },
  {
   "cell_type": "code",
   "execution_count": 24,
   "id": "1839349a",
   "metadata": {},
   "outputs": [
    {
     "name": "stdout",
     "output_type": "stream",
     "text": [
      "0b1011010\n"
     ]
    }
   ],
   "source": [
    "x = bin(90)\n",
    "print(x)"
   ]
  },
  {
   "cell_type": "markdown",
   "id": "d1132a01",
   "metadata": {},
   "source": [
    "* ### Methods in string class:\n",
    "    * Python has a set of built-in methods that you can use on strings.\n",
    "    * All string methods returns new values. They do not change the original string.\n",
    "        * Step1:- Take individual character of the given string.\n",
    "\n",
    "        * Step2:- Evaluate using conditional statements.[ord(A) ......................ord(z)+1] \n",
    "        * Step3:- chr(ord(a)+32)"
   ]
  },
  {
   "cell_type": "code",
   "execution_count": 26,
   "id": "abdefb3c",
   "metadata": {
    "scrolled": true
   },
   "outputs": [
    {
     "name": "stdout",
     "output_type": "stream",
     "text": [
      "['__add__', '__class__', '__contains__', '__delattr__', '__dir__', '__doc__', '__eq__', '__format__', '__ge__', '__getattribute__', '__getitem__', '__getnewargs__', '__getstate__', '__gt__', '__hash__', '__init__', '__init_subclass__', '__iter__', '__le__', '__len__', '__lt__', '__mod__', '__mul__', '__ne__', '__new__', '__reduce__', '__reduce_ex__', '__repr__', '__rmod__', '__rmul__', '__setattr__', '__sizeof__', '__str__', '__subclasshook__', 'capitalize', 'casefold', 'center', 'count', 'encode', 'endswith', 'expandtabs', 'find', 'format', 'format_map', 'index', 'isalnum', 'isalpha', 'isascii', 'isdecimal', 'isdigit', 'isidentifier', 'islower', 'isnumeric', 'isprintable', 'isspace', 'istitle', 'isupper', 'join', 'ljust', 'lower', 'lstrip', 'maketrans', 'partition', 'removeprefix', 'removesuffix', 'replace', 'rfind', 'rindex', 'rjust', 'rpartition', 'rsplit', 'rstrip', 'split', 'splitlines', 'startswith', 'strip', 'swapcase', 'title', 'translate', 'upper', 'zfill']\n"
     ]
    }
   ],
   "source": [
    "print(dir(x))"
   ]
  },
  {
   "cell_type": "markdown",
   "id": "335db501",
   "metadata": {},
   "source": [
    "* ### 1 upper:\n",
    "     * upper() method of builtins.str instance,Return a copy of the string converted to uppercase."
   ]
  },
  {
   "cell_type": "code",
   "execution_count": 29,
   "id": "365c35bd",
   "metadata": {},
   "outputs": [
    {
     "data": {
      "text/plain": [
       "'CRISTIANO RONALDO PORTUGUESE FOOTBALLER'"
      ]
     },
     "execution_count": 29,
     "metadata": {},
     "output_type": "execute_result"
    }
   ],
   "source": [
    "x = 'Cristiano Ronaldo Portuguese footballer'\n",
    "x.upper()"
   ]
  },
  {
   "cell_type": "markdown",
   "id": "558f0ed1",
   "metadata": {},
   "source": [
    "* ### 2 lower:\n",
    "     * lower() method of builtins.str instance,Return a copy of the string converted to lowercase."
   ]
  },
  {
   "cell_type": "code",
   "execution_count": 35,
   "id": "0169ec64",
   "metadata": {},
   "outputs": [
    {
     "data": {
      "text/plain": [
       "'cristiano ronaldo portuguese footballer'"
      ]
     },
     "execution_count": 35,
     "metadata": {},
     "output_type": "execute_result"
    }
   ],
   "source": [
    "x = 'CRISTIANO RONALDO PORTUGUESE FOOTBALLER'\n",
    "x.lower()"
   ]
  },
  {
   "cell_type": "markdown",
   "id": "b206e335",
   "metadata": {},
   "source": [
    "* ### 3 title:\n",
    "     * title() method of builtins.str instance,Return a version of the string where each word is titlecased.\n",
    "     * More specifically, words start with uppercased characters and all remaining,cased characters have lower case."
   ]
  },
  {
   "cell_type": "code",
   "execution_count": 38,
   "id": "111ccdd2",
   "metadata": {},
   "outputs": [
    {
     "data": {
      "text/plain": [
       "'Cristiano Ronaldo Portuguese !!Footballer'"
      ]
     },
     "execution_count": 38,
     "metadata": {},
     "output_type": "execute_result"
    }
   ],
   "source": [
    "x = 'cristiano ronaldo portuguese !!footballer'\n",
    "x.title()"
   ]
  },
  {
   "cell_type": "markdown",
   "id": "f3c1b4c9",
   "metadata": {},
   "source": [
    "* ### 4 swapcase:\n",
    "     * swapcase() method of builtins.str instance,Convert uppercase characters to lowercase and lowercase characters to uppercase."
   ]
  },
  {
   "cell_type": "code",
   "execution_count": 40,
   "id": "0158c170",
   "metadata": {},
   "outputs": [
    {
     "data": {
      "text/plain": [
       "'cRISTIANO ronaldo pORTUGUESE !!fOOTBALLER'"
      ]
     },
     "execution_count": 40,
     "metadata": {},
     "output_type": "execute_result"
    }
   ],
   "source": [
    "x = 'Cristiano RONALDO Portuguese !!Footballer'\n",
    "x.swapcase()"
   ]
  },
  {
   "cell_type": "markdown",
   "id": "12d7cfab",
   "metadata": {},
   "source": [
    "* ### 5 casefold:\n",
    "     * casefold() method of builtins.str instance,Return a version of the string suitable for caseless comparisons."
   ]
  },
  {
   "cell_type": "code",
   "execution_count": 85,
   "id": "c3deba37",
   "metadata": {},
   "outputs": [
    {
     "data": {
      "text/plain": [
       "'ss is a german character'"
      ]
     },
     "execution_count": 85,
     "metadata": {},
     "output_type": "execute_result"
    }
   ],
   "source": [
    "x = 'ß is a german character'\n",
    "x.casefold()"
   ]
  },
  {
   "cell_type": "markdown",
   "id": "09d86942",
   "metadata": {},
   "source": [
    "* ### 6 find:\n",
    "    * find(...) method of builtins.str instance\n",
    "    * S.find(sub[, start[, end]]) -> int\n",
    "    * Return the lowest index in S where substring sub is found,such that sub is contained within S[start:end]. optional  ,arguments start and end are interpreted as in slice notation.\n",
    "     * Return -1 on failure"
   ]
  },
  {
   "cell_type": "code",
   "execution_count": 86,
   "id": "90778b66",
   "metadata": {},
   "outputs": [
    {
     "data": {
      "text/plain": [
       "(52, 27, 24)"
      ]
     },
     "execution_count": 86,
     "metadata": {},
     "output_type": "execute_result"
    }
   ],
   "source": [
    "x = '''a usually brief portion of a written work or speech that\n",
    "is relevant to a point under discussion or noteworthy for content or style.\n",
    "quoted a passage u from the Bible.\n",
    "b. : a phrase or short section of a musical composition'''\n",
    "x.find('that'),x.find('a',8),x.rfind('of',1,30)"
   ]
  },
  {
   "cell_type": "markdown",
   "id": "7b673738",
   "metadata": {},
   "source": [
    "* ### 7 rfind:\n",
    "     * rfind(...) method of builtins.str instance\n",
    "     * S.rfind(sub[, start[, end]]) -> int\n",
    "     * Return the highest index in S where substring sub is found,such that sub is contained within S[start:end].  Optional arguments start and end are interpreted as in slice notation.\n",
    "     * Return -1 on failure."
   ]
  },
  {
   "cell_type": "code",
   "execution_count": 58,
   "id": "bcad665b",
   "metadata": {},
   "outputs": [
    {
     "data": {
      "text/plain": [
       "38"
      ]
     },
     "execution_count": 58,
     "metadata": {},
     "output_type": "execute_result"
    }
   ],
   "source": [
    "x = '''a usually brief portion of a written work or speech that\n",
    "is relevant to a point under discussion or noteworthy for content or style.\n",
    "quoted a passage u from the Bible.\n",
    "b. : a phrase or short section of a musical composition'''\n",
    "x.rfind('or',5,40)"
   ]
  },
  {
   "cell_type": "markdown",
   "id": "c7c8586f",
   "metadata": {},
   "source": [
    "* ### 8 index:\n",
    "    * index(...) method of builtins.str instance\n",
    "    * S.index(sub[, start[, end]]) -> int\n",
    "    * Raises ValueError when the substring is not found."
   ]
  },
  {
   "cell_type": "code",
   "execution_count": 64,
   "id": "9afd1ca1",
   "metadata": {},
   "outputs": [
    {
     "data": {
      "text/plain": [
       "24"
      ]
     },
     "execution_count": 64,
     "metadata": {},
     "output_type": "execute_result"
    }
   ],
   "source": [
    "x.index('of')"
   ]
  },
  {
   "cell_type": "markdown",
   "id": "f51c7535",
   "metadata": {},
   "source": [
    "* ### 9 rindex:\n",
    "    * Return the highest index in S where substring sub is found,such that sub is contained within S[start:end].  Optional arguments start and end are interpreted as in slice notation.\n",
    "     * Raises ValueError when the substring is not found."
   ]
  },
  {
   "cell_type": "code",
   "execution_count": 67,
   "id": "6ad9086d",
   "metadata": {},
   "outputs": [
    {
     "data": {
      "text/plain": [
       "24"
      ]
     },
     "execution_count": 67,
     "metadata": {},
     "output_type": "execute_result"
    }
   ],
   "source": [
    "x.rindex('of',1,32)"
   ]
  },
  {
   "cell_type": "markdown",
   "id": "17f3520d",
   "metadata": {},
   "source": [
    "* ### 10 replace:\n",
    "     * replace(old, new, count=-1, /) method of builtins.str instance\n",
    "     * Return a copy with all occurrences of substring old replaced by new. count Maximum number of occurrences to replace.\n",
    "     * -1 (the default value) means replace all occurrences"
   ]
  },
  {
   "cell_type": "code",
   "execution_count": 69,
   "id": "44c5b324",
   "metadata": {},
   "outputs": [
    {
     "data": {
      "text/plain": [
       "'a usually brief portion rtt a written work or speech that\\nis relevant to a point under discussion or noteworthy for content or style.\\nquoted a passage u from the Bible.\\nb. : a phrase or short section rtt a musical composition'"
      ]
     },
     "execution_count": 69,
     "metadata": {},
     "output_type": "execute_result"
    }
   ],
   "source": [
    "x.replace('of','rtt',4)"
   ]
  },
  {
   "cell_type": "markdown",
   "id": "2a9e91e6",
   "metadata": {},
   "source": [
    "* ### 11 splitlines:\n",
    "     * str instance Return a list of the lines in the string, breaking at line boundaries.\n",
    "     * Line breaks are not included in the resulting list unless keepends is given and true.\n"
   ]
  },
  {
   "cell_type": "code",
   "execution_count": 87,
   "id": "cbdce445",
   "metadata": {},
   "outputs": [
    {
     "data": {
      "text/plain": [
       "['a usually brief portion of a written work or speech that',\n",
       " 'is relevant to a point under discussion or noteworthy for content or style.',\n",
       " 'quoted a passage u from the Bible.',\n",
       " 'b. : a phrase or short section of a musical composition']"
      ]
     },
     "execution_count": 87,
     "metadata": {},
     "output_type": "execute_result"
    }
   ],
   "source": [
    "x.splitlines()"
   ]
  },
  {
   "cell_type": "markdown",
   "id": "2750574b",
   "metadata": {},
   "source": [
    "* ### 12 split:\n",
    "     * split(sep=None, maxsplit=-1) method of builtins.str instance Return a list of the substrings in the string, using sep as the separator string.\n",
    "     * sep,The separator used to split the string."
   ]
  },
  {
   "cell_type": "code",
   "execution_count": 76,
   "id": "336db4c8",
   "metadata": {},
   "outputs": [
    {
     "name": "stdout",
     "output_type": "stream",
     "text": [
      "['', ' usu', 'lly brief portion of ', ' written work or speech th', 't\\nis relev', 'nt to ', ' point under discussion or noteworthy for content or style.\\nquoted ', ' p', 'ss', 'ge u from the Bible.\\nb. : ', ' phr', 'se or short section of ', ' music', 'l composition']\n"
     ]
    }
   ],
   "source": [
    "print(x.split('a'))"
   ]
  },
  {
   "cell_type": "markdown",
   "id": "3e4a4f89",
   "metadata": {},
   "source": [
    "* ### 13 rsplit:\n",
    "    * rsplit(sep=None, maxsplit=-1) method of builtins.str instance Return a list of the substrings in the string, using sep as the separator string."
   ]
  },
  {
   "cell_type": "code",
   "execution_count": 89,
   "id": "b6a31ab4",
   "metadata": {
    "scrolled": true
   },
   "outputs": [
    {
     "name": "stdout",
     "output_type": "stream",
     "text": [
      "['a', 'usually', 'brief', 'portion', 'of', 'a', 'written', 'work', 'or', 'speech', 'that', 'is', 'relevant', 'to', 'a', 'point', 'under', 'discussion', 'or', 'noteworthy', 'for', 'content', 'or', 'style.', 'quoted', 'a', 'passage', 'u', 'from', 'the', 'Bible.', 'b.', ':', 'a', 'phrase', 'or', 'short', 'section', 'of', 'a', 'musical', 'composition']\n"
     ]
    }
   ],
   "source": [
    "print(x.rsplit())"
   ]
  },
  {
   "cell_type": "markdown",
   "id": "62f27cc9",
   "metadata": {},
   "source": [
    "* ### 14 partition:\n",
    "     * partition(sep, /) method of builtins.str instance,Partition the string into three parts using the given separator."
   ]
  },
  {
   "cell_type": "code",
   "execution_count": 164,
   "id": "20554597",
   "metadata": {},
   "outputs": [
    {
     "name": "stdout",
     "output_type": "stream",
     "text": [
      "('', 'm', 'alayalam')\n"
     ]
    }
   ],
   "source": [
    "x = 'malayalam'\n",
    "print(x.partition('m'))"
   ]
  },
  {
   "cell_type": "markdown",
   "id": "f4f7509c",
   "metadata": {},
   "source": [
    "* ### 15 rpartition:\n",
    "     * rpartition(sep, /) method of builtins.str instance Partition the string into three parts using the given separator."
   ]
  },
  {
   "cell_type": "code",
   "execution_count": 163,
   "id": "d67ef956",
   "metadata": {},
   "outputs": [
    {
     "name": "stdout",
     "output_type": "stream",
     "text": [
      "('ronald', 'o', '')\n"
     ]
    }
   ],
   "source": [
    "print(x.rpartition('o'))"
   ]
  },
  {
   "cell_type": "markdown",
   "id": "5d285d41",
   "metadata": {},
   "source": [
    "* ### 16 isalpha:\n",
    "    * isalpha() method of builtins.str instance Return True if the string is an alphabetic string, False otherwise"
   ]
  },
  {
   "cell_type": "code",
   "execution_count": 92,
   "id": "f15613d0",
   "metadata": {},
   "outputs": [
    {
     "data": {
      "text/plain": [
       "True"
      ]
     },
     "execution_count": 92,
     "metadata": {},
     "output_type": "execute_result"
    }
   ],
   "source": [
    "x = 'Cristiano'\n",
    "x.isalpha()"
   ]
  },
  {
   "cell_type": "markdown",
   "id": "b7c7321d",
   "metadata": {},
   "source": [
    "* ### 17 isalnum:\n",
    "    * isalnum() method of builtins.str instance\n",
    "    Return True if the string is an alpha-numeric string, False otherwise."
   ]
  },
  {
   "cell_type": "code",
   "execution_count": 102,
   "id": "3fa06298",
   "metadata": {},
   "outputs": [
    {
     "data": {
      "text/plain": [
       "True"
      ]
     },
     "execution_count": 102,
     "metadata": {},
     "output_type": "execute_result"
    }
   ],
   "source": [
    "x = 'num1'\n",
    "x.isalnum()"
   ]
  },
  {
   "cell_type": "markdown",
   "id": "1c6cd602",
   "metadata": {},
   "source": [
    "* ### 18 isascii:\n",
    "    * isascii() method of builtins.str instance\n",
    "      Return True if all characters in the string are ASCII, False otherwise."
   ]
  },
  {
   "cell_type": "code",
   "execution_count": 105,
   "id": "4827dec4",
   "metadata": {},
   "outputs": [
    {
     "data": {
      "text/plain": [
       "True"
      ]
     },
     "execution_count": 105,
     "metadata": {},
     "output_type": "execute_result"
    }
   ],
   "source": [
    "x = 'Ronaldo'\n",
    "x.isascii()"
   ]
  },
  {
   "cell_type": "code",
   "execution_count": 107,
   "id": "aa144e97",
   "metadata": {},
   "outputs": [
    {
     "data": {
      "text/plain": [
       "True"
      ]
     },
     "execution_count": 107,
     "metadata": {},
     "output_type": "execute_result"
    }
   ],
   "source": [
    "x = 'ram1'\n",
    "x.isascii()"
   ]
  },
  {
   "cell_type": "markdown",
   "id": "46ab5957",
   "metadata": {},
   "source": [
    "* ### 19 isdecimal:\n",
    "    * isdecimal() method of builtins.str instance\n",
    "      Return True if the string is a decimal string, False otherwise."
   ]
  },
  {
   "cell_type": "code",
   "execution_count": 115,
   "id": "243b447c",
   "metadata": {},
   "outputs": [
    {
     "data": {
      "text/plain": [
       "False"
      ]
     },
     "execution_count": 115,
     "metadata": {},
     "output_type": "execute_result"
    }
   ],
   "source": [
    "'abi'.isdecimal()"
   ]
  },
  {
   "cell_type": "code",
   "execution_count": 117,
   "id": "6261a2d1",
   "metadata": {},
   "outputs": [
    {
     "data": {
      "text/plain": [
       "True"
      ]
     },
     "execution_count": 117,
     "metadata": {},
     "output_type": "execute_result"
    }
   ],
   "source": [
    "'1'.isdecimal()"
   ]
  },
  {
   "cell_type": "markdown",
   "id": "889e3b19",
   "metadata": {},
   "source": [
    "* ### 20 isdigit:\n",
    "    * isdigit() method of builtins.str instance\n",
    "      Return True if the string is a digit string, False otherwise."
   ]
  },
  {
   "cell_type": "code",
   "execution_count": 126,
   "id": "704d40ce",
   "metadata": {},
   "outputs": [
    {
     "data": {
      "text/plain": [
       "True"
      ]
     },
     "execution_count": 126,
     "metadata": {},
     "output_type": "execute_result"
    }
   ],
   "source": [
    "x = '10'\n",
    "x.isdigit()"
   ]
  },
  {
   "cell_type": "code",
   "execution_count": 127,
   "id": "af3a8be9",
   "metadata": {},
   "outputs": [
    {
     "data": {
      "text/plain": [
       "False"
      ]
     },
     "execution_count": 127,
     "metadata": {},
     "output_type": "execute_result"
    }
   ],
   "source": [
    "x = '1.0'\n",
    "x.isdigit()"
   ]
  },
  {
   "cell_type": "markdown",
   "id": "c7701299",
   "metadata": {},
   "source": [
    "* ### 21 isidentifier:\n",
    "    * isidentifier() method of builtins.str instance\n",
    "      Return True if the string is a valid Python identifier, False otherwise."
   ]
  },
  {
   "cell_type": "code",
   "execution_count": 130,
   "id": "d82a03ac",
   "metadata": {},
   "outputs": [
    {
     "data": {
      "text/plain": [
       "True"
      ]
     },
     "execution_count": 130,
     "metadata": {},
     "output_type": "execute_result"
    }
   ],
   "source": [
    "x = 'ronaldo'\n",
    "x.isidentifier()"
   ]
  },
  {
   "cell_type": "code",
   "execution_count": 131,
   "id": "8cb54cf7",
   "metadata": {},
   "outputs": [
    {
     "data": {
      "text/plain": [
       "False"
      ]
     },
     "execution_count": 131,
     "metadata": {},
     "output_type": "execute_result"
    }
   ],
   "source": [
    "x = '12345'\n",
    "x.isidentifier()"
   ]
  },
  {
   "cell_type": "markdown",
   "id": "36dd6661",
   "metadata": {},
   "source": [
    "* ### 22 islower:\n",
    "    * islower() method of builtins.str instance\n",
    "    Return True if the string is a lowercase string, False otherwise."
   ]
  },
  {
   "cell_type": "code",
   "execution_count": 133,
   "id": "4e9aa32a",
   "metadata": {},
   "outputs": [
    {
     "data": {
      "text/plain": [
       "False"
      ]
     },
     "execution_count": 133,
     "metadata": {},
     "output_type": "execute_result"
    }
   ],
   "source": [
    "x = 'Ronaldo'\n",
    "x.islower()"
   ]
  },
  {
   "cell_type": "code",
   "execution_count": 134,
   "id": "d8392540",
   "metadata": {},
   "outputs": [
    {
     "data": {
      "text/plain": [
       "True"
      ]
     },
     "execution_count": 134,
     "metadata": {},
     "output_type": "execute_result"
    }
   ],
   "source": [
    "x = 'ronaldo'\n",
    "x.islower()"
   ]
  },
  {
   "cell_type": "markdown",
   "id": "826d0b97",
   "metadata": {},
   "source": [
    "* ### 23 isupper:\n",
    "    * isupper() method of builtins.str instance\n",
    "    Return True if the string is an uppercase string, False otherwise."
   ]
  },
  {
   "cell_type": "code",
   "execution_count": 136,
   "id": "1ef0ffa8",
   "metadata": {},
   "outputs": [
    {
     "data": {
      "text/plain": [
       "False"
      ]
     },
     "execution_count": 136,
     "metadata": {},
     "output_type": "execute_result"
    }
   ],
   "source": [
    "x = 'ronaldo'\n",
    "x.isupper()"
   ]
  },
  {
   "cell_type": "code",
   "execution_count": 137,
   "id": "f6430bae",
   "metadata": {},
   "outputs": [
    {
     "data": {
      "text/plain": [
       "True"
      ]
     },
     "execution_count": 137,
     "metadata": {},
     "output_type": "execute_result"
    }
   ],
   "source": [
    "x = 'RONALDO'\n",
    "x.isupper()"
   ]
  },
  {
   "cell_type": "markdown",
   "id": "5b588a2a",
   "metadata": {},
   "source": [
    "* ### 24 isupper:\n",
    "    * isnumeric() method of builtins.str instance\n",
    "    Return True if the string is a numeric string, False otherwise.\n"
   ]
  },
  {
   "cell_type": "code",
   "execution_count": 139,
   "id": "61996ea4",
   "metadata": {},
   "outputs": [
    {
     "data": {
      "text/plain": [
       "True"
      ]
     },
     "execution_count": 139,
     "metadata": {},
     "output_type": "execute_result"
    }
   ],
   "source": [
    "x = '12345'\n",
    "x.isnumeric()"
   ]
  },
  {
   "cell_type": "code",
   "execution_count": 140,
   "id": "62d2bab7",
   "metadata": {},
   "outputs": [
    {
     "data": {
      "text/plain": [
       "False"
      ]
     },
     "execution_count": 140,
     "metadata": {},
     "output_type": "execute_result"
    }
   ],
   "source": [
    "x = 'abhi'\n",
    "x.isnumeric()"
   ]
  },
  {
   "cell_type": "markdown",
   "id": "5f7b8b2c",
   "metadata": {},
   "source": [
    "* ### 25 isprintable:\n",
    "    * isprintable() method of builtins.str instance\n",
    "    Return True if the string is printable, False otherwise."
   ]
  },
  {
   "cell_type": "code",
   "execution_count": 142,
   "id": "20e28abf",
   "metadata": {},
   "outputs": [
    {
     "data": {
      "text/plain": [
       "True"
      ]
     },
     "execution_count": 142,
     "metadata": {},
     "output_type": "execute_result"
    }
   ],
   "source": [
    "x = 'abh'\n",
    "x.isprintable()"
   ]
  },
  {
   "cell_type": "markdown",
   "id": "0566d58c",
   "metadata": {},
   "source": [
    "* ### 26 isspace:\n",
    "    * isspace() method of builtins.str instance\n",
    "    Return True if the string is a whitespace string, False otherwise.\n",
    "    A string is whitespace if all characters in the string are whitespace and there\n",
    "    is at least one character in the string."
   ]
  },
  {
   "cell_type": "code",
   "execution_count": 147,
   "id": "064012ac",
   "metadata": {},
   "outputs": [
    {
     "data": {
      "text/plain": [
       "False"
      ]
     },
     "execution_count": 147,
     "metadata": {},
     "output_type": "execute_result"
    }
   ],
   "source": [
    "x = 'abhi'\n",
    "x.isspace()"
   ]
  },
  {
   "cell_type": "code",
   "execution_count": 146,
   "id": "014311f2",
   "metadata": {},
   "outputs": [
    {
     "data": {
      "text/plain": [
       "True"
      ]
     },
     "execution_count": 146,
     "metadata": {},
     "output_type": "execute_result"
    }
   ],
   "source": [
    "x = '\\n'\n",
    "x.isspace()"
   ]
  },
  {
   "cell_type": "markdown",
   "id": "fce4ad47",
   "metadata": {},
   "source": [
    "* ### 27 istitle:\n",
    "    * istitle() method of builtins.str instance\n",
    "    Return True if the string is a title-cased string, False otherwise."
   ]
  },
  {
   "cell_type": "code",
   "execution_count": 149,
   "id": "baf858c6",
   "metadata": {},
   "outputs": [
    {
     "data": {
      "text/plain": [
       "True"
      ]
     },
     "execution_count": 149,
     "metadata": {},
     "output_type": "execute_result"
    }
   ],
   "source": [
    "x = 'Ronaldo'\n",
    "x.istitle()"
   ]
  },
  {
   "cell_type": "code",
   "execution_count": 150,
   "id": "e3cc9324",
   "metadata": {},
   "outputs": [
    {
     "data": {
      "text/plain": [
       "False"
      ]
     },
     "execution_count": 150,
     "metadata": {},
     "output_type": "execute_result"
    }
   ],
   "source": [
    "x = 'ronaldo'\n",
    "x.istitle()"
   ]
  }
 ],
 "metadata": {
  "kernelspec": {
   "display_name": "Python 3 (ipykernel)",
   "language": "python",
   "name": "python3"
  },
  "language_info": {
   "codemirror_mode": {
    "name": "ipython",
    "version": 3
   },
   "file_extension": ".py",
   "mimetype": "text/x-python",
   "name": "python",
   "nbconvert_exporter": "python",
   "pygments_lexer": "ipython3",
   "version": "3.11.2"
  }
 },
 "nbformat": 4,
 "nbformat_minor": 5
}
